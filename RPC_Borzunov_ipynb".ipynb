{
  "nbformat": 4,
  "nbformat_minor": 0,
  "metadata": {
    "colab": {
      "provenance": [],
      "include_colab_link": true
    },
    "kernelspec": {
      "name": "python3",
      "display_name": "Python 3"
    },
    "language_info": {
      "name": "python"
    }
  },
  "cells": [
    {
      "cell_type": "markdown",
      "metadata": {
        "id": "view-in-github",
        "colab_type": "text"
      },
      "source": [
        "<a href=\"https://colab.research.google.com/github/AntonioBorz/Homework_SF_Mephi/blob/main/RPC_Borzunov_ipynb%22.ipynb\" target=\"_parent\"><img src=\"https://colab.research.google.com/assets/colab-badge.svg\" alt=\"Open In Colab\"/></a>"
      ]
    },
    {
      "cell_type": "code",
      "execution_count": 11,
      "metadata": {
        "id": "MXXTuy_o0sjk",
        "colab": {
          "base_uri": "https://localhost:8080/"
        },
        "outputId": "cd387bda-6c20-4bcc-b1b2-22036ba94f0a"
      },
      "outputs": [
        {
          "output_type": "stream",
          "name": "stdout",
          "text": [
            "  Preparing metadata (setup.py) ... \u001b[?25l\u001b[?25hdone\n",
            "\u001b[2K   \u001b[90m━━━━━━━━━━━━━━━━━━━━━━━━━━━━━━━━━━━━━━━━\u001b[0m \u001b[32m1.4/1.4 MB\u001b[0m \u001b[31m43.1 MB/s\u001b[0m eta \u001b[36m0:00:00\u001b[0m\n",
            "\u001b[2K   \u001b[90m━━━━━━━━━━━━━━━━━━━━━━━━━━━━━━━━━━━━━━━━\u001b[0m \u001b[32m953.8/953.8 kB\u001b[0m \u001b[31m56.1 MB/s\u001b[0m eta \u001b[36m0:00:00\u001b[0m\n",
            "\u001b[2K   \u001b[90m━━━━━━━━━━━━━━━━━━━━━━━━━━━━━━━━━━━━━━━━\u001b[0m \u001b[32m840.2/840.2 kB\u001b[0m \u001b[31m50.0 MB/s\u001b[0m eta \u001b[36m0:00:00\u001b[0m\n",
            "\u001b[2K   \u001b[90m━━━━━━━━━━━━━━━━━━━━━━━━━━━━━━━━━━━━━━━━\u001b[0m \u001b[32m178.7/178.7 kB\u001b[0m \u001b[31m15.0 MB/s\u001b[0m eta \u001b[36m0:00:00\u001b[0m\n",
            "\u001b[?25h  Building wheel for Chessnut (setup.py) ... \u001b[?25l\u001b[?25hdone\n"
          ]
        }
      ],
      "source": [
        "!pip install -q -U kaggle_environments"
      ]
    },
    {
      "cell_type": "code",
      "source": [
        "import numpy as np\n",
        "import pandas as pd\n",
        "import random\n",
        "import math\n",
        "\n",
        "import matplotlib.pyplot as plt\n",
        "import seaborn as sns\n",
        "\n",
        "from kaggle_environments import make, evaluate"
      ],
      "metadata": {
        "id": "yz23vWHD0wcj",
        "colab": {
          "base_uri": "https://localhost:8080/"
        },
        "outputId": "0fc13ff3-a473-4606-c5fc-6e1d2fcf00ea"
      },
      "execution_count": 12,
      "outputs": [
        {
          "output_type": "stream",
          "name": "stderr",
          "text": [
            "/usr/local/lib/python3.10/dist-packages/pygame/pkgdata.py:25: DeprecationWarning: pkg_resources is deprecated as an API. See https://setuptools.pypa.io/en/latest/pkg_resources.html\n",
            "  from pkg_resources import resource_stream, resource_exists\n",
            "/usr/local/lib/python3.10/dist-packages/pkg_resources/__init__.py:3154: DeprecationWarning: Deprecated call to `pkg_resources.declare_namespace('google')`.\n",
            "Implementing implicit namespace packages (as specified in PEP 420) is preferred to `pkg_resources.declare_namespace`. See https://setuptools.pypa.io/en/latest/references/keywords.html#keyword-namespace-packages\n",
            "  declare_namespace(pkg)\n",
            "/usr/local/lib/python3.10/dist-packages/pkg_resources/__init__.py:3154: DeprecationWarning: Deprecated call to `pkg_resources.declare_namespace('google.cloud')`.\n",
            "Implementing implicit namespace packages (as specified in PEP 420) is preferred to `pkg_resources.declare_namespace`. See https://setuptools.pypa.io/en/latest/references/keywords.html#keyword-namespace-packages\n",
            "  declare_namespace(pkg)\n",
            "/usr/local/lib/python3.10/dist-packages/pkg_resources/__init__.py:3154: DeprecationWarning: Deprecated call to `pkg_resources.declare_namespace('sphinxcontrib')`.\n",
            "Implementing implicit namespace packages (as specified in PEP 420) is preferred to `pkg_resources.declare_namespace`. See https://setuptools.pypa.io/en/latest/references/keywords.html#keyword-namespace-packages\n",
            "  declare_namespace(pkg)\n"
          ]
        },
        {
          "output_type": "stream",
          "name": "stdout",
          "text": [
            "Loading environment lux_ai_s3 failed: No module named 'gymnax'\n"
          ]
        }
      ]
    },
    {
      "cell_type": "markdown",
      "source": [
        "# **Вводим в игру трех базовых агентов (Камень, Бумага, Ножницы)**"
      ],
      "metadata": {
        "id": "3tolXMH0kbU7"
      }
    },
    {
      "cell_type": "markdown",
      "source": [
        "1. Агент, всегда выбирающий камень (Камень - 0)"
      ],
      "metadata": {
        "id": "0kuo6IOxiRub"
      }
    },
    {
      "cell_type": "code",
      "source": [
        "class RockAgent:\n",
        "    def __call__(self, observation, configuration):\n",
        "        # 0 - выбираем камень\n",
        "        return 0"
      ],
      "metadata": {
        "id": "bqTqV7B92rJ6"
      },
      "execution_count": 13,
      "outputs": []
    },
    {
      "cell_type": "markdown",
      "source": [
        "2. Агент, всегда выбирающий бумагу (Бумага - 1)"
      ],
      "metadata": {
        "id": "r4JYtNJjih17"
      }
    },
    {
      "cell_type": "code",
      "source": [
        "class PaperAgent:\n",
        "    def __call__(self, observation, configuration):\n",
        "        # 1 - выбираем бумагу\n",
        "        return 1"
      ],
      "metadata": {
        "id": "fCPeapZfiUX_"
      },
      "execution_count": 14,
      "outputs": []
    },
    {
      "cell_type": "markdown",
      "source": [
        "3. Агент, всегда выбирающий ножницы (Ножницы - 2)"
      ],
      "metadata": {
        "id": "LvW0J1fuiTpz"
      }
    },
    {
      "cell_type": "code",
      "source": [
        "class ScissorsAgent:\n",
        "    def __call__(self, observation, configuration):\n",
        "        # 2 - выбираем ножницы\n",
        "        return 2"
      ],
      "metadata": {
        "id": "KAtVYhA0jpD3"
      },
      "execution_count": 15,
      "outputs": []
    },
    {
      "cell_type": "markdown",
      "source": [
        "# **Вводим в игру \"хаотичного\" агента**"
      ],
      "metadata": {
        "id": "rifbD__iu1nK"
      }
    },
    {
      "cell_type": "markdown",
      "source": [
        "4. Агент, делающий ход случайно (Рандом)"
      ],
      "metadata": {
        "id": "loIKkBknvZlK"
      }
    },
    {
      "cell_type": "code",
      "source": [
        "class RandomAgent:\n",
        "    def __call__(self, observation, configuration):\n",
        "        # свободный выбор камень/бумага/ножницы\n",
        "        return random.randrange(0, configuration.signs)"
      ],
      "metadata": {
        "id": "n-HYgHLqu1LO"
      },
      "execution_count": 16,
      "outputs": []
    },
    {
      "cell_type": "markdown",
      "source": [
        "# **Вводим в игру адаптирующихся агентов**"
      ],
      "metadata": {
        "id": "At9-_wlPkNxU"
      }
    },
    {
      "cell_type": "markdown",
      "source": [
        "5. Агент, копирующий оппонента (Копия)"
      ],
      "metadata": {
        "id": "oojmtd9TlpGA"
      }
    },
    {
      "cell_type": "code",
      "source": [
        "class CopyAgent:\n",
        "    def __call__(self, observation, configuration):\n",
        "        # если это не первый ход, то копируем предыдущий ход оппонента\n",
        "        if observation.step > 0:\n",
        "            return observation.lastOpponentAction\n",
        "        # иначе возвращаем свободу выбора\n",
        "        else:\n",
        "            return random.randrange(0, configuration.signs)"
      ],
      "metadata": {
        "id": "zEOBb6U5l17q"
      },
      "execution_count": 17,
      "outputs": []
    },
    {
      "cell_type": "markdown",
      "source": [
        "6. Агент, реагирующий на ход оппонента (Реакция)"
      ],
      "metadata": {
        "id": "Z_fQf43Fnnl-"
      }
    },
    {
      "cell_type": "code",
      "source": [
        "class ReactAgent:\n",
        "    def __call__(self, observation, configuration):\n",
        "        # если это первый ход, то оставляем свободу выбора\n",
        "        if observation.step == 0:\n",
        "            return random.randrange(0, configuration.signs)\n",
        "        # на основе предыдущего хода оппонента агент выбирает ход, с которым он бы победил в предыдущем раунде\n",
        "        return (observation.lastOpponentAction + 1) % configuration.signs"
      ],
      "metadata": {
        "id": "DKJGJFWarWWS"
      },
      "execution_count": 18,
      "outputs": []
    },
    {
      "cell_type": "markdown",
      "source": [
        "# **Вводим в игру последовательных агентов**"
      ],
      "metadata": {
        "id": "FISXhU_qxMfw"
      }
    },
    {
      "cell_type": "markdown",
      "source": [
        "7. Агент, который ходит по порядку 0-1-2-0-1-2-... (Пошагово)"
      ],
      "metadata": {
        "id": "eiUKxhipxYEP"
      }
    },
    {
      "cell_type": "code",
      "source": [
        "class MonotonousAgent:\n",
        "    def __call__(self, observation, configuration):\n",
        "        # если это первый ход, то оставляем свободу выбора\n",
        "        if observation.step == 0:\n",
        "            return random.randrange(0, configuration.signs)\n",
        "        # иначе берем остаток от деления номера текущего эпизода на количество возможных вариантов\n",
        "        return observation.step % configuration.signs"
      ],
      "metadata": {
        "id": "xln6RLFUxXjK"
      },
      "execution_count": 19,
      "outputs": []
    },
    {
      "cell_type": "markdown",
      "source": [
        "8. Агент, который ходит по порядку с повтором 0-0-1-1-2-2-0-0-... (ПовторПошагово)"
      ],
      "metadata": {
        "id": "XeStF4czyTvs"
      }
    },
    {
      "cell_type": "code",
      "source": [
        "class MonotonousRepeatAgent:\n",
        "    def __init__(self):\n",
        "        # инициализируем поле для хранения последнего хода\n",
        "        self.last_step = -1\n",
        "        # инициализируем поле для хранения количества повторов\n",
        "        self.repeats = 0\n",
        "\n",
        "    def __call__(self, observation, configuration):\n",
        "        # если это первый ход, то оставляем свободу выбора\n",
        "        if self.last_step < 0:\n",
        "            self.last_step = random.randrange(0, configuration.signs)\n",
        "        # если повтора еще не было\n",
        "        if self.repeats == 0:\n",
        "            # увеличиваем количество повторов\n",
        "            self.repeats += 1\n",
        "        # если уже повторяли\n",
        "        else:\n",
        "            # сбрасываем счетчик повторов\n",
        "            self.repeats = 0\n",
        "            # увеличиваем значение последнего шага\n",
        "            self.last_step = (self.last_step + 1) % configuration.signs\n",
        "        # возвращаем значение поля, хранящего последний шаг\n",
        "        return self.last_step"
      ],
      "metadata": {
        "id": "5oZ8QkWTyfFp"
      },
      "execution_count": 20,
      "outputs": []
    },
    {
      "cell_type": "markdown",
      "source": [
        "9. Агент, который ходит по порядку с двойным повтором 0-0-0-1-1-1-2-2-2-0-0-0-... (ПовторПошаговоХ2)"
      ],
      "metadata": {
        "id": "eD3OWEZS24Bo"
      }
    },
    {
      "cell_type": "code",
      "source": [
        "class MonotonousDoubleRepeatAgent:\n",
        "    def __init__(self):\n",
        "        # инициализируем поле для хранения последнего хода\n",
        "        self.last_step = -1\n",
        "        # инициализируем поле для хранения количества повторов\n",
        "        self.repeats = 0\n",
        "\n",
        "    def __call__(self, observation, configuration):\n",
        "        # если это первый ход, то оставляем свободу выбора\n",
        "        if self.last_step < 0:\n",
        "            self.last_step = random.randrange(0, configuration.signs)\n",
        "        # если повтора еще не было\n",
        "        if self.repeats == 0:\n",
        "            # увеличиваем количество повторов\n",
        "            self.repeats += 2\n",
        "        # если уже повторяли\n",
        "        else:\n",
        "            # сбрасываем счетчик повторов\n",
        "            self.repeats = 0\n",
        "            # увеличиваем значение последнего шага\n",
        "            self.last_step = (self.last_step + 1) % configuration.signs\n",
        "        # возвращаем значение поля, хранящего последний шаг\n",
        "        return self.last_step"
      ],
      "metadata": {
        "id": "FnFF0i7o3A-m"
      },
      "execution_count": 21,
      "outputs": []
    },
    {
      "cell_type": "markdown",
      "source": [
        "10. Агент, который ходит через один шаг 0-2-1-0-2-1... (ЧерезШаг)"
      ],
      "metadata": {
        "id": "ZUYJfzGuyqwD"
      }
    },
    {
      "cell_type": "code",
      "source": [
        "class MonotonousStepAgent:\n",
        "    def __init__(self):\n",
        "        # инициализируем поле для хранения последнего хода\n",
        "        self.last_step = -1\n",
        "\n",
        "    def __call__(self, observation, configuration):\n",
        "        # если это первый ход\n",
        "        if self.last_step < 0:\n",
        "            # возвращаем рандомное значение из доступных вариантов\n",
        "            self.last_step = random.randrange(0, configuration.signs)\n",
        "        # прибавляем 2 к своему последнему ходу\n",
        "        return (self.last_step + 2) % configuration.signs"
      ],
      "metadata": {
        "id": "2IMh61kfyqRL"
      },
      "execution_count": 22,
      "outputs": []
    },
    {
      "cell_type": "markdown",
      "source": [
        "11. Агент, который ходит с чередованием 0/1/2 (Чередование1/3)"
      ],
      "metadata": {
        "id": "9lqMPre4yr97"
      }
    },
    {
      "cell_type": "code",
      "source": [
        "class PartAgent:\n",
        "    def __init__(self):\n",
        "        # инициализируем поле для хранения последнего хода\n",
        "        self.last_step = 0\n",
        "        # инициализируем поле для хранения  количества повторов\n",
        "        self.repeats = 0\n",
        "\n",
        "    def __call__(self, observation, configuration):\n",
        "        # если количество повторов меньше 1/3 от запланированного количества эпизодов\n",
        "        if self.repeats < (configuration.get('episodeSteps') / 3):\n",
        "            # увеличиваем счетчик повторов\n",
        "            self.repeats += 1\n",
        "        # иначе переход к следующему значению\n",
        "        else:\n",
        "            # сбрасываем счетчик повторов\n",
        "            self.repeats = 0\n",
        "            # увеличиваем значение последнего шага\n",
        "            self.last_step = (self.last_step + 1) % configuration.signs\n",
        "        # возвращаем значение поля, хранящего последний шаг\n",
        "        return self.last_step"
      ],
      "metadata": {
        "id": "cbkBWTYRyrtX"
      },
      "execution_count": 23,
      "outputs": []
    },
    {
      "cell_type": "markdown",
      "source": [
        "## **Вводим в игру агента, анализирующего статистику**"
      ],
      "metadata": {
        "id": "ZrhteIJt3mDh"
      }
    },
    {
      "cell_type": "markdown",
      "source": [
        "12. Агент, который подсчитывает самый частый ход оппонента и соответственно реагирует"
      ],
      "metadata": {
        "id": "kPoOBl3Y34v0"
      }
    },
    {
      "cell_type": "code",
      "source": [
        "class StatisticalAgent:\n",
        "    def __init__(self):\n",
        "        # инициализируем переменную для хранения статистики\n",
        "        self.action_histogram = {}\n",
        "\n",
        "    def __call__(self, observation, configuration):\n",
        "        # если это первый ход\n",
        "        if observation.step == 0:\n",
        "            # сбрасываем статистику\n",
        "            self.action_histogram = {}\n",
        "            # возвращаем свободу выбора\n",
        "            return random.randrange(0, configuration.signs)\n",
        "        # сохраняем в переменную последний ход оппонента\n",
        "        action = observation.lastOpponentAction\n",
        "        # если такого ключа еще нет в справочнике\n",
        "        if action not in self.action_histogram:\n",
        "            # добавляем в справочник со значением 0\n",
        "            self.action_histogram[action] = 0\n",
        "        # делаем инкремент счетчика для такого хода оппонента\n",
        "        self.action_histogram[action] += 1\n",
        "\n",
        "        # определяем статистически самый частый ход оппонента\n",
        "        # инициализируем переменную для хранения хода с максимальным счетчиком\n",
        "        mode_action = None\n",
        "        # инициализируем переменную для хранения максимального значения счетчика\n",
        "        mode_action_count = None\n",
        "        # для каждой пары ключ-значение в справочнике статистики\n",
        "        for k, v in self.action_histogram.items():\n",
        "            # если значение в справочнике для этого ключа не установлено\n",
        "            # или значение итератора больше значения в справочнике\n",
        "            if mode_action_count is None or v > mode_action_count:\n",
        "                # сохраняем текущий ключ в переменную максимума\n",
        "                mode_action = k\n",
        "                # сохраняем текущее значение в переменную максимума\n",
        "                mode_action_count = v\n",
        "                # переходим к следующей итерации\n",
        "                continue\n",
        "        # ходим так, чтобы победить самый частый ход оппонента\n",
        "        return (mode_action + 1) % configuration.signs"
      ],
      "metadata": {
        "id": "SjEF2UIG4qGE"
      },
      "execution_count": 24,
      "outputs": []
    },
    {
      "cell_type": "markdown",
      "source": [
        "# **Собираем справочник агентов**"
      ],
      "metadata": {
        "id": "5mmhELIy448e"
      }
    },
    {
      "cell_type": "code",
      "source": [
        "agents = {\n",
        "    'Камень': RockAgent(),\n",
        "    'Бумага': PaperAgent(),\n",
        "    'Ножницы': ScissorsAgent(),\n",
        "    'Рандом': RandomAgent(),\n",
        "    'Копия': CopyAgent(),\n",
        "    'Реакция': ReactAgent(),\n",
        "    'Пошагово': MonotonousAgent(),\n",
        "    'ПовторПошагово': MonotonousRepeatAgent(),\n",
        "    'ПовторПошаговоХ2': MonotonousDoubleRepeatAgent(),\n",
        "    'ЧерезШаг': MonotonousStepAgent(),\n",
        "    'Чередование1/3': PartAgent(),\n",
        "    'Статистика': StatisticalAgent()\n",
        "}"
      ],
      "metadata": {
        "id": "Y64W7igc5P99"
      },
      "execution_count": 25,
      "outputs": []
    },
    {
      "cell_type": "markdown",
      "source": [
        "# **Организуем турнир**"
      ],
      "metadata": {
        "id": "b7TFV6V65Y-L"
      }
    },
    {
      "cell_type": "code",
      "source": [
        "class Tournament:\n",
        "\n",
        "    def __init__(self, agents):\n",
        "\n",
        "        # инициализируем атрибут со справочником агентов\n",
        "        self.agents = agents\n",
        "        # инициализируем справочник с результатами\n",
        "        self.results = {}\n",
        "        # для каждого ключа в справочнике агентов\n",
        "        for agent in agents:\n",
        "            # подготавливаем результат с 0 значением\n",
        "            self.results[agent] = {'episodes_sum': 0, 'points': 0}\n",
        "\n",
        "    # сохраняем результаты раунда\n",
        "    def __save_result(self, round_result, left, right):\n",
        "\n",
        "        # сохраняем в переменную количество побед в раунде левого агента\n",
        "        left_wins = round_result[0][0]\n",
        "        # сохраняем в переменную количество побед в раунде левого агента\n",
        "        right_wins = round_result[0][1]\n",
        "        # добавляем победы левого агента в результаты\n",
        "        self.results[left]['episodes_sum'] += left_wins\n",
        "        # добавляем победы правого агента в результаты\n",
        "        self.results[right]['episodes_sum'] += right_wins\n",
        "        # если у левого агента больше побед\n",
        "        if left_wins > right_wins:\n",
        "            # добавляем в результаты 2 очка левому агенту\n",
        "            self.results[left]['points'] += 2\n",
        "        # если у правого агента больше побед\n",
        "        elif left_wins < right_wins:\n",
        "            # добавляем в результаты 2 очка правому агенту\n",
        "            self.results[right]['points'] += 2\n",
        "        # иначе ничья\n",
        "        else:\n",
        "            # добавляем в результаты 1 очко левому агенту\n",
        "            self.results[left]['points'] += 1\n",
        "            # добавляем в результаты 1 очко правому агенту\n",
        "            self.results[right]['points'] += 1\n",
        "\n",
        "    def start(self, episodes):\n",
        "\n",
        "        # собираем список имен агентов\n",
        "        names = list(self.agents.keys())\n",
        "\n",
        "        # проводим раунды для всех возможных пар агентов\n",
        "        # для числа i от 0 до количества агентов уменьшенного на 1\n",
        "        # i будет представлять индекс левого агента в раунде\n",
        "        for i in range(len(names) - 1):\n",
        "            # для числа j от 0 до количества агентов уменьшенного на 1\n",
        "            for j in range(len(names) - 1):\n",
        "                # определяем индекс правого агента\n",
        "                index = j + 1 + i\n",
        "                # если вычисленный индекс превысил макимальный индекс\n",
        "                if index > (len(names) - 1):\n",
        "                    # выходим из цикла\n",
        "                    break\n",
        "                # сохраняем в переменную имя левого агента\n",
        "                left = names[i]\n",
        "                # сохраняем в переменную имя правого агента\n",
        "                right = names[index]\n",
        "                # проводим раунд и сохраняем результат в переменную\n",
        "                round_result = evaluate(\n",
        "                    \"rps\", #environment to use - no need to change\n",
        "                    [agents[left], agents[right]], #agents to evaluate\n",
        "                    configuration={\"episodeSteps\": episodes}, #episodes\n",
        "                    debug=True\n",
        "                )\n",
        "                # сохраняем результат раунда\n",
        "                self.__save_result(round_result, left, right)\n",
        "\n",
        "    # выводим результаты турнира\n",
        "    def print_result(self):\n",
        "\n",
        "        # сортируем результат по полученным очкам\n",
        "        sorted_table_p = dict(\n",
        "            sorted(\n",
        "                self.results.items(),\n",
        "                key=lambda x: (x[1].get('points'), x[1].get('episodes_sum')),\n",
        "                reverse=True\n",
        "                )\n",
        "            )\n",
        "        # собираем список имен агентов в отсортированном порядке\n",
        "        names_p = [name for name in sorted_table_p]\n",
        "        # собираем список очков в отсортированном порядке\n",
        "        points = [x[1].get('points') for x in sorted_table_p.items()]\n",
        "\n",
        "        # создаем и отображаем график\n",
        "        dfp = pd.DataFrame({\"agent\": names_p, \"point\": points})\n",
        "        plt.figure(figsize=(25, 5))\n",
        "        splot = sns.barplot(x=\"agent\",y=\"point\",data=dfp)\n",
        "        plt.xlabel(\"Агент\", size=16)\n",
        "        plt.ylabel(\"Набранные очки\", size=16)\n",
        "        plt.bar_label(splot.containers[0],size=16,label_type='center')\n",
        "        plt.suptitle('По набранным очкам')\n",
        "        plt.show()\n",
        "\n",
        "        # сортируем результат по сумме выигранных эпизодов\n",
        "        sorted_table_e = dict(\n",
        "            sorted(\n",
        "                self.results.items(),\n",
        "                key=lambda x: (x[1].get('episodes_sum'), x[1].get('points')),\n",
        "                reverse=True\n",
        "                )\n",
        "            )\n",
        "        # собираем список имен агентов в отсортированном порядке\n",
        "        names_e = [name for name in sorted_table_e]\n",
        "        # собираем список сумм выигранных эпизодов в отсортированном порядке\n",
        "        ep_sum = [x[1].get('episodes_sum') for x in sorted_table_e.items()]\n",
        "\n",
        "        # создаем и отображаем график\n",
        "        dfe = pd.DataFrame({\"agent\": names_e, \"win\": ep_sum})\n",
        "        plt.figure(figsize=(25, 5))\n",
        "        splot=sns.barplot(x=\"agent\",y=\"win\",data=dfe)\n",
        "        plt.xlabel(\"Агент\", size=16)\n",
        "        plt.ylabel(\"Количество игр\", size=16)\n",
        "        plt.bar_label(splot.containers[0],size=16, label_type='center')\n",
        "        plt.suptitle('По количеству игр')\n",
        "        plt.show()"
      ],
      "metadata": {
        "id": "gX9GVUnq6Y8p"
      },
      "execution_count": 39,
      "outputs": []
    },
    {
      "cell_type": "markdown",
      "source": [
        "# **ТУРНИР**"
      ],
      "metadata": {
        "id": "n_Ul4jhUI1_E"
      }
    },
    {
      "cell_type": "code",
      "source": [
        "# создаем турнир, передав подготовленный справочник агентов\n",
        "tournament = Tournament(agents)\n",
        "# запускаем турнир, передав количество эпизодов в раунде\n",
        "tournament.start(1000)\n",
        "# отображаем результат турнира\n",
        "tournament.print_result()"
      ],
      "metadata": {
        "colab": {
          "base_uri": "https://localhost:8080/",
          "height": 609
        },
        "id": "Ft6Y8aSBCEBO",
        "outputId": "77755f26-3646-4883-f106-b9de121b78d6"
      },
      "execution_count": 40,
      "outputs": [
        {
          "output_type": "display_data",
          "data": {
            "text/plain": [
              "<Figure size 2500x500 with 1 Axes>"
            ],
            "image/png": "[encoded data removed]"
          },
          "metadata": {}
        },
        {
          "output_type": "display_data",
          "data": {
            "text/plain": [
              "<Figure size 2500x500 with 1 Axes>"
            ],
            "image/png": "[encoded data removed]"
          },
          "metadata": {}
        }
      ]
    },
    {
      "cell_type": "markdown",
      "source": [
        "# **ВЫВОД**"
      ],
      "metadata": {
        "id": "CfueoS0aReTd"
      }
    },
    {
      "cell_type": "markdown",
      "source": [
        "В подавляющем большинстве случаев побеждают агенты:\n",
        "- реагирующие на ходы оппонентов;\n",
        "- анализирующее статистику предыдущих ходов оппонентов."
      ],
      "metadata": {
        "id": "ln1LgA67RyB_"
      }
    }
  ]
}